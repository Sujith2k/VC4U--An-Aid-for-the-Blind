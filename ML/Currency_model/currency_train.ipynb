{
  "nbformat": 4,
  "nbformat_minor": 0,
  "metadata": {
    "orig_nbformat": 2,
    "kernelspec": {
      "name": "python3",
      "display_name": "Python 3"
    },
    "colab": {
      "name": "currency_train.ipynb",
      "provenance": [],
      "collapsed_sections": [],
      "include_colab_link": true
    },
    "accelerator": "GPU"
  },
  "cells": [
    {
      "cell_type": "markdown",
      "metadata": {
        "id": "view-in-github",
        "colab_type": "text"
      },
      "source": [
        "<a href=\"https://colab.research.google.com/github/Sujith2k/An-Aid-for-the-Blind/blob/master/ML/Currency_model/currency_train.ipynb\" target=\"_parent\"><img src=\"https://colab.research.google.com/assets/colab-badge.svg\" alt=\"Open In Colab\"/></a>"
      ]
    },
    {
      "cell_type": "code",
      "metadata": {
        "id": "BvXuetrTWMcw",
        "colab_type": "code",
        "colab": {
          "base_uri": "https://localhost:8080/",
          "height": 33
        },
        "outputId": "42b898cf-d817-4502-de96-631d7a44c027"
      },
      "source": [
        "from google.colab import drive\n",
        "drive.mount('/content/gdrive')"
      ],
      "execution_count": null,
      "outputs": [
        {
          "output_type": "stream",
          "text": [
            "Drive already mounted at /content/gdrive; to attempt to forcibly remount, call drive.mount(\"/content/gdrive\", force_remount=True).\n"
          ],
          "name": "stdout"
        }
      ]
    },
    {
      "cell_type": "code",
      "metadata": {
        "id": "Wr6EBeb0eFtW",
        "colab_type": "code",
        "colab": {
          "base_uri": "https://localhost:8080/",
          "height": 33
        },
        "outputId": "bceadea5-4b98-4018-8952-2b35f216f2bf"
      },
      "source": [
        "%cd gdrive"
      ],
      "execution_count": null,
      "outputs": [
        {
          "output_type": "stream",
          "text": [
            "/content/gdrive\n"
          ],
          "name": "stdout"
        }
      ]
    },
    {
      "cell_type": "code",
      "metadata": {
        "id": "jeAa9K1zVaiJ",
        "colab_type": "code",
        "colab": {}
      },
      "source": [
        "import numpy as np \n",
        "import matplotlib.pyplot as plt\n",
        "import matplotlib.image as mimg\n",
        "import random\n",
        "import os\n",
        "from keras import models\n",
        "from keras import layers\n",
        "from keras import optimizers\n",
        "from keras.preprocessing.image import ImageDataGenerator\n",
        "from keras.preprocessing.image import img_to_array , load_img\n",
        "from keras.utils import to_categorical\n",
        "import pandas as ps \n",
        "import cv2\n",
        "from sklearn.model_selection import train_test_split\n",
        "\n",
        "import keras.backend as K\n",
        "K.set_learning_phase(0)"
      ],
      "execution_count": null,
      "outputs": []
    },
    {
      "cell_type": "code",
      "metadata": {
        "id": "JsT5qBcZVaiP",
        "colab_type": "code",
        "colab": {
          "base_uri": "https://localhost:8080/",
          "height": 33
        },
        "outputId": "c51801c0-b783-4ccb-b38c-76f18e8e5bc8"
      },
      "source": [
        "labels = ['10','20','50','100','200','500','2000']\n",
        "train_imgs_names= os.listdir(\"My Drive/cohort/Dataset/Currency_Train\")\n",
        "len(train_imgs_names)"
      ],
      "execution_count": null,
      "outputs": [
        {
          "output_type": "execute_result",
          "data": {
            "text/plain": [
              "584"
            ]
          },
          "metadata": {
            "tags": []
          },
          "execution_count": 7
        }
      ]
    },
    {
      "cell_type": "code",
      "metadata": {
        "id": "UDwUnTpvVaiT",
        "colab_type": "code",
        "colab": {}
      },
      "source": [
        "random.shuffle(train_imgs_names)\n",
        "train_imgs , pre_train_labels = [],[]\n",
        "\n",
        "for img in train_imgs_names:\n",
        "    train_imgs.append( cv2.resize( cv2.imread(\"My Drive/cohort/Dataset/Currency_Train/\"+img) , (150,150) ,interpolation = cv2.INTER_CUBIC ) )\n",
        "\n",
        "    for index,label in enumerate(labels):\n",
        "        if(label + '_' in img):\n",
        "            pre_train_labels.append(index)"
      ],
      "execution_count": null,
      "outputs": []
    },
    {
      "cell_type": "code",
      "metadata": {
        "id": "HL2yi7Q3VaiZ",
        "colab_type": "code",
        "colab": {
          "base_uri": "https://localhost:8080/",
          "height": 50
        },
        "outputId": "59f2461b-43f1-4bf7-c891-4f5c46ac642c"
      },
      "source": [
        "print(pre_train_labels[0])\n",
        "train_labels = to_categorical(pre_train_labels)\n",
        "train_labels[0]"
      ],
      "execution_count": null,
      "outputs": [
        {
          "output_type": "stream",
          "text": [
            "4\n"
          ],
          "name": "stdout"
        },
        {
          "output_type": "execute_result",
          "data": {
            "text/plain": [
              "array([0., 0., 0., 0., 1., 0., 0.], dtype=float32)"
            ]
          },
          "metadata": {
            "tags": []
          },
          "execution_count": 9
        }
      ]
    },
    {
      "cell_type": "code",
      "metadata": {
        "id": "kXf900juVaig",
        "colab_type": "code",
        "colab": {
          "base_uri": "https://localhost:8080/",
          "height": 537
        },
        "outputId": "1ffbdbab-5367-4e88-d49f-c65660ebe9e8"
      },
      "source": [
        "model = models.Sequential()\n",
        "model.add(layers.Conv2D(32, (3,3) ,activation = 'relu' , input_shape =(150,150,3)))\n",
        "model.add(layers.MaxPooling2D((2,2)))\n",
        "model.add(layers.Conv2D(64 , (3,3) , activation = 'relu'))\n",
        "model.add(layers.MaxPooling2D((2,2)))\n",
        "model.add(layers.Conv2D(128 , (3,3) , activation = 'relu'))\n",
        "model.add(layers.MaxPooling2D((2,2)))\n",
        "model.add(layers.Conv2D(128 , (3,3) , activation = 'relu'))\n",
        "model.add(layers.MaxPooling2D((2,2)))\n",
        "model.add(layers.Flatten())\n",
        "model.add(layers.Dropout(0.5))\n",
        "model.add(layers.Dense(512,activation = 'relu'))\n",
        "model.add(layers.Dense(7, activation = 'sigmoid'))\n",
        "\n",
        "model.summary()"
      ],
      "execution_count": null,
      "outputs": [
        {
          "output_type": "stream",
          "text": [
            "Model: \"sequential_1\"\n",
            "_________________________________________________________________\n",
            "Layer (type)                 Output Shape              Param #   \n",
            "=================================================================\n",
            "conv2d_1 (Conv2D)            (None, 148, 148, 32)      896       \n",
            "_________________________________________________________________\n",
            "max_pooling2d_1 (MaxPooling2 (None, 74, 74, 32)        0         \n",
            "_________________________________________________________________\n",
            "conv2d_2 (Conv2D)            (None, 72, 72, 64)        18496     \n",
            "_________________________________________________________________\n",
            "max_pooling2d_2 (MaxPooling2 (None, 36, 36, 64)        0         \n",
            "_________________________________________________________________\n",
            "conv2d_3 (Conv2D)            (None, 34, 34, 128)       73856     \n",
            "_________________________________________________________________\n",
            "max_pooling2d_3 (MaxPooling2 (None, 17, 17, 128)       0         \n",
            "_________________________________________________________________\n",
            "conv2d_4 (Conv2D)            (None, 15, 15, 128)       147584    \n",
            "_________________________________________________________________\n",
            "max_pooling2d_4 (MaxPooling2 (None, 7, 7, 128)         0         \n",
            "_________________________________________________________________\n",
            "flatten_1 (Flatten)          (None, 6272)              0         \n",
            "_________________________________________________________________\n",
            "dropout_1 (Dropout)          (None, 6272)              0         \n",
            "_________________________________________________________________\n",
            "dense_1 (Dense)              (None, 512)               3211776   \n",
            "_________________________________________________________________\n",
            "dense_2 (Dense)              (None, 7)                 3591      \n",
            "=================================================================\n",
            "Total params: 3,456,199\n",
            "Trainable params: 3,456,199\n",
            "Non-trainable params: 0\n",
            "_________________________________________________________________\n"
          ],
          "name": "stdout"
        }
      ]
    },
    {
      "cell_type": "code",
      "metadata": {
        "id": "2DYeWglEVaik",
        "colab_type": "code",
        "colab": {}
      },
      "source": [
        "model.compile(loss='binary_crossentropy',optimizer = optimizers.RMSprop(lr = 1e-4),metrics= ['acc'])"
      ],
      "execution_count": null,
      "outputs": []
    },
    {
      "cell_type": "code",
      "metadata": {
        "id": "BzO2LKnbVaip",
        "colab_type": "code",
        "colab": {}
      },
      "source": [
        "x_train , x_val , y_train , y_val = train_test_split( train_imgs , train_labels , test_size = 0.2 )\n",
        "\n",
        "x_train = np.asarray(x_train)\n",
        "x_val = np.asarray(x_val)"
      ],
      "execution_count": null,
      "outputs": []
    },
    {
      "cell_type": "code",
      "metadata": {
        "id": "m4_OZzGth0bv",
        "colab_type": "code",
        "colab": {}
      },
      "source": [
        "train_datagen = ImageDataGenerator(rescale = 1./255 , rotation_range = 40 , width_shift_range = 0.2 , height_shift_range = 0.2 , shear_range = 0.2 , zoom_range = 0.2 , horizontal_flip = True)\n",
        "val_datagen = ImageDataGenerator(rescale = 1./255)\n",
        "\n",
        "train_generator = train_datagen.flow(x_train, y_train , batch_size = 32)\n",
        "val_generator = val_datagen.flow(x_val, y_val , batch_size = 32)"
      ],
      "execution_count": null,
      "outputs": []
    },
    {
      "cell_type": "code",
      "metadata": {
        "id": "a_P36YYGiZnm",
        "colab_type": "code",
        "colab": {
          "base_uri": "https://localhost:8080/",
          "height": 1000
        },
        "outputId": "6c96738a-db39-4a84-d9d0-a2bc3bcc3773"
      },
      "source": [
        "model.fit_generator(train_generator , steps_per_epoch = 100 , epochs = 50 , validation_data = val_generator , validation_steps = 100)"
      ],
      "execution_count": null,
      "outputs": [
        {
          "output_type": "stream",
          "text": [
            "Epoch 1/50\n",
            "100/100 [==============================] - 25s 250ms/step - loss: 0.3920 - acc: 0.8520 - val_loss: 0.3431 - val_acc: 0.8535\n",
            "Epoch 2/50\n",
            "100/100 [==============================] - 18s 180ms/step - loss: 0.3001 - acc: 0.8740 - val_loss: 0.3380 - val_acc: 0.8852\n",
            "Epoch 3/50\n",
            "100/100 [==============================] - 17s 175ms/step - loss: 0.2593 - acc: 0.8922 - val_loss: 0.2130 - val_acc: 0.8913\n",
            "Epoch 4/50\n",
            "100/100 [==============================] - 17s 172ms/step - loss: 0.2336 - acc: 0.9017 - val_loss: 0.2510 - val_acc: 0.8987\n",
            "Epoch 5/50\n",
            "100/100 [==============================] - 18s 183ms/step - loss: 0.2189 - acc: 0.9073 - val_loss: 0.2035 - val_acc: 0.9219\n",
            "Epoch 6/50\n",
            "100/100 [==============================] - 17s 175ms/step - loss: 0.2060 - acc: 0.9137 - val_loss: 0.1699 - val_acc: 0.9231\n",
            "Epoch 7/50\n",
            "100/100 [==============================] - 17s 172ms/step - loss: 0.1917 - acc: 0.9185 - val_loss: 0.1955 - val_acc: 0.9267\n",
            "Epoch 8/50\n",
            "100/100 [==============================] - 18s 183ms/step - loss: 0.1823 - acc: 0.9219 - val_loss: 0.1484 - val_acc: 0.9353\n",
            "Epoch 9/50\n",
            "100/100 [==============================] - 18s 176ms/step - loss: 0.1741 - acc: 0.9264 - val_loss: 0.3018 - val_acc: 0.9206\n",
            "Epoch 10/50\n",
            "100/100 [==============================] - 17s 174ms/step - loss: 0.1634 - acc: 0.9314 - val_loss: 0.1016 - val_acc: 0.9353\n",
            "Epoch 11/50\n",
            "100/100 [==============================] - 18s 182ms/step - loss: 0.1553 - acc: 0.9347 - val_loss: 0.2265 - val_acc: 0.9341\n",
            "Epoch 12/50\n",
            "100/100 [==============================] - 18s 176ms/step - loss: 0.1498 - acc: 0.9384 - val_loss: 0.2392 - val_acc: 0.9316\n",
            "Epoch 13/50\n",
            "100/100 [==============================] - 17s 174ms/step - loss: 0.1439 - acc: 0.9401 - val_loss: 0.1931 - val_acc: 0.9353\n",
            "Epoch 14/50\n",
            "100/100 [==============================] - 18s 181ms/step - loss: 0.1325 - acc: 0.9463 - val_loss: 0.1681 - val_acc: 0.9463\n",
            "Epoch 15/50\n",
            "100/100 [==============================] - 17s 175ms/step - loss: 0.1321 - acc: 0.9460 - val_loss: 0.1626 - val_acc: 0.9121\n",
            "Epoch 16/50\n",
            "100/100 [==============================] - 17s 173ms/step - loss: 0.1248 - acc: 0.9490 - val_loss: 0.1536 - val_acc: 0.9353\n",
            "Epoch 17/50\n",
            "100/100 [==============================] - 18s 183ms/step - loss: 0.1228 - acc: 0.9510 - val_loss: 0.3138 - val_acc: 0.9133\n",
            "Epoch 18/50\n",
            "100/100 [==============================] - 17s 175ms/step - loss: 0.1171 - acc: 0.9518 - val_loss: 0.1053 - val_acc: 0.9280\n",
            "Epoch 19/50\n",
            "100/100 [==============================] - 17s 175ms/step - loss: 0.1127 - acc: 0.9541 - val_loss: 0.2667 - val_acc: 0.9463\n",
            "Epoch 20/50\n",
            "100/100 [==============================] - 18s 184ms/step - loss: 0.1074 - acc: 0.9566 - val_loss: 0.2786 - val_acc: 0.9438\n",
            "Epoch 21/50\n",
            "100/100 [==============================] - 18s 177ms/step - loss: 0.1065 - acc: 0.9590 - val_loss: 0.1663 - val_acc: 0.9389\n",
            "Epoch 22/50\n",
            "100/100 [==============================] - 17s 173ms/step - loss: 0.1023 - acc: 0.9601 - val_loss: 0.1590 - val_acc: 0.9328\n",
            "Epoch 23/50\n",
            "100/100 [==============================] - 18s 185ms/step - loss: 0.1022 - acc: 0.9597 - val_loss: 0.1616 - val_acc: 0.9463\n",
            "Epoch 24/50\n",
            "100/100 [==============================] - 18s 177ms/step - loss: 0.0983 - acc: 0.9600 - val_loss: 0.1769 - val_acc: 0.9377\n",
            "Epoch 25/50\n",
            "100/100 [==============================] - 18s 176ms/step - loss: 0.0934 - acc: 0.9625 - val_loss: 0.2171 - val_acc: 0.9328\n",
            "Epoch 26/50\n",
            "100/100 [==============================] - 18s 183ms/step - loss: 0.0913 - acc: 0.9653 - val_loss: 0.2680 - val_acc: 0.9414\n",
            "Epoch 27/50\n",
            "100/100 [==============================] - 18s 176ms/step - loss: 0.0896 - acc: 0.9660 - val_loss: 0.1452 - val_acc: 0.9206\n",
            "Epoch 28/50\n",
            "100/100 [==============================] - 17s 175ms/step - loss: 0.0827 - acc: 0.9669 - val_loss: 0.0344 - val_acc: 0.9463\n",
            "Epoch 29/50\n",
            "100/100 [==============================] - 18s 182ms/step - loss: 0.0834 - acc: 0.9681 - val_loss: 0.4118 - val_acc: 0.9463\n",
            "Epoch 30/50\n",
            "100/100 [==============================] - 18s 177ms/step - loss: 0.0767 - acc: 0.9716 - val_loss: 0.1789 - val_acc: 0.9487\n",
            "Epoch 31/50\n",
            "100/100 [==============================] - 17s 170ms/step - loss: 0.0786 - acc: 0.9702 - val_loss: 0.3340 - val_acc: 0.9231\n",
            "Epoch 32/50\n",
            "100/100 [==============================] - 18s 183ms/step - loss: 0.0708 - acc: 0.9731 - val_loss: 0.1598 - val_acc: 0.9499\n",
            "Epoch 33/50\n",
            "100/100 [==============================] - 17s 172ms/step - loss: 0.0748 - acc: 0.9704 - val_loss: 0.1587 - val_acc: 0.9524\n",
            "Epoch 34/50\n",
            "100/100 [==============================] - 17s 170ms/step - loss: 0.0694 - acc: 0.9718 - val_loss: 0.0876 - val_acc: 0.9451\n",
            "Epoch 35/50\n",
            "100/100 [==============================] - 18s 179ms/step - loss: 0.0686 - acc: 0.9740 - val_loss: 0.1921 - val_acc: 0.9206\n",
            "Epoch 36/50\n",
            "100/100 [==============================] - 17s 171ms/step - loss: 0.0644 - acc: 0.9754 - val_loss: 0.4271 - val_acc: 0.9512\n",
            "Epoch 37/50\n",
            "100/100 [==============================] - 17s 169ms/step - loss: 0.0625 - acc: 0.9766 - val_loss: 0.2369 - val_acc: 0.9438\n",
            "Epoch 38/50\n",
            "100/100 [==============================] - 18s 176ms/step - loss: 0.0591 - acc: 0.9767 - val_loss: 0.3720 - val_acc: 0.9353\n",
            "Epoch 39/50\n",
            "100/100 [==============================] - 17s 170ms/step - loss: 0.0583 - acc: 0.9777 - val_loss: 0.2069 - val_acc: 0.9389\n",
            "Epoch 40/50\n",
            "100/100 [==============================] - 17s 166ms/step - loss: 0.0553 - acc: 0.9788 - val_loss: 0.2506 - val_acc: 0.9463\n",
            "Epoch 41/50\n",
            "100/100 [==============================] - 17s 174ms/step - loss: 0.0557 - acc: 0.9793 - val_loss: 0.3653 - val_acc: 0.9536\n",
            "Epoch 42/50\n",
            "100/100 [==============================] - 17s 167ms/step - loss: 0.0514 - acc: 0.9804 - val_loss: 0.4521 - val_acc: 0.9267\n",
            "Epoch 43/50\n",
            "100/100 [==============================] - 17s 169ms/step - loss: 0.0514 - acc: 0.9808 - val_loss: 0.1872 - val_acc: 0.9341\n",
            "Epoch 44/50\n",
            "100/100 [==============================] - 18s 176ms/step - loss: 0.0519 - acc: 0.9815 - val_loss: 0.1844 - val_acc: 0.9365\n",
            "Epoch 45/50\n",
            "100/100 [==============================] - 17s 171ms/step - loss: 0.0474 - acc: 0.9821 - val_loss: 0.0851 - val_acc: 0.9390\n",
            "Epoch 46/50\n",
            "100/100 [==============================] - 17s 168ms/step - loss: 0.0472 - acc: 0.9828 - val_loss: 0.3490 - val_acc: 0.9402\n",
            "Epoch 47/50\n",
            "100/100 [==============================] - 18s 179ms/step - loss: 0.0463 - acc: 0.9814 - val_loss: 0.1641 - val_acc: 0.9512\n",
            "Epoch 48/50\n",
            "100/100 [==============================] - 17s 172ms/step - loss: 0.0437 - acc: 0.9839 - val_loss: 0.4896 - val_acc: 0.9463\n",
            "Epoch 49/50\n",
            "100/100 [==============================] - 17s 170ms/step - loss: 0.0431 - acc: 0.9846 - val_loss: 0.2515 - val_acc: 0.9487\n",
            "Epoch 50/50\n",
            "100/100 [==============================] - 18s 180ms/step - loss: 0.0426 - acc: 0.9830 - val_loss: 0.1882 - val_acc: 0.9536\n"
          ],
          "name": "stdout"
        },
        {
          "output_type": "execute_result",
          "data": {
            "text/plain": [
              "<keras.callbacks.callbacks.History at 0x7f757ba3e748>"
            ]
          },
          "metadata": {
            "tags": []
          },
          "execution_count": 14
        }
      ]
    },
    {
      "cell_type": "code",
      "metadata": {
        "id": "XEqfx0qnhEDz",
        "colab_type": "code",
        "colab": {}
      },
      "source": [
        "model.save('My Drive/cohort/currency.h5')"
      ],
      "execution_count": null,
      "outputs": []
    },
    {
      "cell_type": "code",
      "metadata": {
        "id": "n29W86dGGoJH",
        "colab_type": "code",
        "colab": {}
      },
      "source": [
        ""
      ],
      "execution_count": null,
      "outputs": []
    }
  ]
}