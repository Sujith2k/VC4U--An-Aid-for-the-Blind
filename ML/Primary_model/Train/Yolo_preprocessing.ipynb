{
  "nbformat": 4,
  "nbformat_minor": 0,
  "metadata": {
    "colab": {
      "name": "Yolo_preprocessing.ipynb",
      "provenance": [],
      "collapsed_sections": [],
      "authorship_tag": "ABX9TyPfVZFJ2QOAAm+D6EmpBG8/",
      "include_colab_link": true
    },
    "kernelspec": {
      "name": "python3",
      "display_name": "Python 3"
    }
  },
  "cells": [
    {
      "cell_type": "markdown",
      "metadata": {
        "id": "view-in-github",
        "colab_type": "text"
      },
      "source": [
        "<a href=\"https://colab.research.google.com/github/Sujith2k/An-Aid-for-the-Blind/blob/master/ML/Primary_model/Train/Yolo_preprocessing.ipynb\" target=\"_parent\"><img src=\"https://colab.research.google.com/assets/colab-badge.svg\" alt=\"Open In Colab\"/></a>"
      ]
    },
    {
      "cell_type": "code",
      "metadata": {
        "id": "Tle9pgAFe9pm",
        "colab_type": "code",
        "outputId": "b648bba4-5829-4420-c3c3-4bc393f6c583",
        "colab": {
          "base_uri": "https://localhost:8080/",
          "height": 124
        }
      },
      "source": [
        "from google.colab import drive\n",
        "drive.mount('/content/drive',force_remount= True)"
      ],
      "execution_count": 0,
      "outputs": [
        {
          "output_type": "stream",
          "text": [
            "Go to this URL in a browser: https://accounts.google.com/o/oauth2/auth?client_id=947318989803-6bn6qk8qdgf4n4g3pfee6491hc0brc4i.apps.googleusercontent.com&redirect_uri=urn%3aietf%3awg%3aoauth%3a2.0%3aoob&response_type=code&scope=email%20https%3a%2f%2fwww.googleapis.com%2fauth%2fdocs.test%20https%3a%2f%2fwww.googleapis.com%2fauth%2fdrive%20https%3a%2f%2fwww.googleapis.com%2fauth%2fdrive.photos.readonly%20https%3a%2f%2fwww.googleapis.com%2fauth%2fpeopleapi.readonly\n",
            "\n",
            "Enter your authorization code:\n",
            "··········\n",
            "Mounted at /content/drive\n"
          ],
          "name": "stdout"
        }
      ]
    },
    {
      "cell_type": "code",
      "metadata": {
        "id": "wtGHIzV7e_dM",
        "colab_type": "code",
        "colab": {}
      },
      "source": [
        "import numpy as np\n",
        "import time\n",
        "import sys\n",
        "import os\n",
        "import random\n",
        "from skimage import io\n",
        "import pandas as pd\n",
        "from matplotlib import pyplot as plt\n",
        "from shutil import copyfile\n",
        "\n",
        "import cv2\n",
        "from google.colab.patches import cv2_imshow\n"
      ],
      "execution_count": 0,
      "outputs": []
    },
    {
      "cell_type": "code",
      "metadata": {
        "id": "fpyAGHNjKZf0",
        "colab_type": "code",
        "outputId": "7abdb274-c113-43fe-a949-59de141456cf",
        "colab": {
          "base_uri": "https://localhost:8080/",
          "height": 202
        }
      },
      "source": [
        "images_boxable = pd.read_csv('https://datasets.figure-eight.com/figure_eight_datasets/open-images/train-images-boxable.csv')\n",
        "images_boxable.head()"
      ],
      "execution_count": 0,
      "outputs": [
        {
          "output_type": "execute_result",
          "data": {
            "text/html": [
              "<div>\n",
              "<style scoped>\n",
              "    .dataframe tbody tr th:only-of-type {\n",
              "        vertical-align: middle;\n",
              "    }\n",
              "\n",
              "    .dataframe tbody tr th {\n",
              "        vertical-align: top;\n",
              "    }\n",
              "\n",
              "    .dataframe thead th {\n",
              "        text-align: right;\n",
              "    }\n",
              "</style>\n",
              "<table border=\"1\" class=\"dataframe\">\n",
              "  <thead>\n",
              "    <tr style=\"text-align: right;\">\n",
              "      <th></th>\n",
              "      <th>image_name</th>\n",
              "      <th>image_url</th>\n",
              "    </tr>\n",
              "  </thead>\n",
              "  <tbody>\n",
              "    <tr>\n",
              "      <th>0</th>\n",
              "      <td>e39871fd9fd74f55.jpg</td>\n",
              "      <td>https://requestor-proxy.figure-eight.com/figur...</td>\n",
              "    </tr>\n",
              "    <tr>\n",
              "      <th>1</th>\n",
              "      <td>f18b91585c4d3f3e.jpg</td>\n",
              "      <td>https://requestor-proxy.figure-eight.com/figur...</td>\n",
              "    </tr>\n",
              "    <tr>\n",
              "      <th>2</th>\n",
              "      <td>ede6e66b2fb59aab.jpg</td>\n",
              "      <td>https://requestor-proxy.figure-eight.com/figur...</td>\n",
              "    </tr>\n",
              "    <tr>\n",
              "      <th>3</th>\n",
              "      <td>ed600d57fcee4f94.jpg</td>\n",
              "      <td>https://requestor-proxy.figure-eight.com/figur...</td>\n",
              "    </tr>\n",
              "    <tr>\n",
              "      <th>4</th>\n",
              "      <td>ff47e649b23f446d.jpg</td>\n",
              "      <td>https://requestor-proxy.figure-eight.com/figur...</td>\n",
              "    </tr>\n",
              "  </tbody>\n",
              "</table>\n",
              "</div>"
            ],
            "text/plain": [
              "             image_name                                          image_url\n",
              "0  e39871fd9fd74f55.jpg  https://requestor-proxy.figure-eight.com/figur...\n",
              "1  f18b91585c4d3f3e.jpg  https://requestor-proxy.figure-eight.com/figur...\n",
              "2  ede6e66b2fb59aab.jpg  https://requestor-proxy.figure-eight.com/figur...\n",
              "3  ed600d57fcee4f94.jpg  https://requestor-proxy.figure-eight.com/figur...\n",
              "4  ff47e649b23f446d.jpg  https://requestor-proxy.figure-eight.com/figur..."
            ]
          },
          "metadata": {
            "tags": []
          },
          "execution_count": 3
        }
      ]
    },
    {
      "cell_type": "code",
      "metadata": {
        "id": "9SE0lymOKZtY",
        "colab_type": "code",
        "outputId": "10d47c20-4a79-4fe7-9c1a-917c190658f7",
        "colab": {
          "base_uri": "https://localhost:8080/",
          "height": 202
        }
      },
      "source": [
        "annotations_bbox = pd.read_csv('https://datasets.figure-eight.com/figure_eight_datasets/open-images/train-annotations-bbox.csv')\n",
        "annotations_bbox.head()"
      ],
      "execution_count": 0,
      "outputs": [
        {
          "output_type": "execute_result",
          "data": {
            "text/html": [
              "<div>\n",
              "<style scoped>\n",
              "    .dataframe tbody tr th:only-of-type {\n",
              "        vertical-align: middle;\n",
              "    }\n",
              "\n",
              "    .dataframe tbody tr th {\n",
              "        vertical-align: top;\n",
              "    }\n",
              "\n",
              "    .dataframe thead th {\n",
              "        text-align: right;\n",
              "    }\n",
              "</style>\n",
              "<table border=\"1\" class=\"dataframe\">\n",
              "  <thead>\n",
              "    <tr style=\"text-align: right;\">\n",
              "      <th></th>\n",
              "      <th>ImageID</th>\n",
              "      <th>Source</th>\n",
              "      <th>LabelName</th>\n",
              "      <th>Confidence</th>\n",
              "      <th>XMin</th>\n",
              "      <th>XMax</th>\n",
              "      <th>YMin</th>\n",
              "      <th>YMax</th>\n",
              "      <th>IsOccluded</th>\n",
              "      <th>IsTruncated</th>\n",
              "      <th>IsGroupOf</th>\n",
              "      <th>IsDepiction</th>\n",
              "      <th>IsInside</th>\n",
              "    </tr>\n",
              "  </thead>\n",
              "  <tbody>\n",
              "    <tr>\n",
              "      <th>0</th>\n",
              "      <td>000002b66c9c498e</td>\n",
              "      <td>xclick</td>\n",
              "      <td>/m/01g317</td>\n",
              "      <td>1</td>\n",
              "      <td>0.012500</td>\n",
              "      <td>0.195312</td>\n",
              "      <td>0.148438</td>\n",
              "      <td>0.587500</td>\n",
              "      <td>0</td>\n",
              "      <td>1</td>\n",
              "      <td>0</td>\n",
              "      <td>0</td>\n",
              "      <td>0</td>\n",
              "    </tr>\n",
              "    <tr>\n",
              "      <th>1</th>\n",
              "      <td>000002b66c9c498e</td>\n",
              "      <td>xclick</td>\n",
              "      <td>/m/01g317</td>\n",
              "      <td>1</td>\n",
              "      <td>0.025000</td>\n",
              "      <td>0.276563</td>\n",
              "      <td>0.714063</td>\n",
              "      <td>0.948438</td>\n",
              "      <td>0</td>\n",
              "      <td>1</td>\n",
              "      <td>0</td>\n",
              "      <td>0</td>\n",
              "      <td>0</td>\n",
              "    </tr>\n",
              "    <tr>\n",
              "      <th>2</th>\n",
              "      <td>000002b66c9c498e</td>\n",
              "      <td>xclick</td>\n",
              "      <td>/m/01g317</td>\n",
              "      <td>1</td>\n",
              "      <td>0.151562</td>\n",
              "      <td>0.310937</td>\n",
              "      <td>0.198437</td>\n",
              "      <td>0.590625</td>\n",
              "      <td>1</td>\n",
              "      <td>0</td>\n",
              "      <td>0</td>\n",
              "      <td>0</td>\n",
              "      <td>0</td>\n",
              "    </tr>\n",
              "    <tr>\n",
              "      <th>3</th>\n",
              "      <td>000002b66c9c498e</td>\n",
              "      <td>xclick</td>\n",
              "      <td>/m/01g317</td>\n",
              "      <td>1</td>\n",
              "      <td>0.256250</td>\n",
              "      <td>0.429688</td>\n",
              "      <td>0.651563</td>\n",
              "      <td>0.925000</td>\n",
              "      <td>1</td>\n",
              "      <td>0</td>\n",
              "      <td>0</td>\n",
              "      <td>0</td>\n",
              "      <td>0</td>\n",
              "    </tr>\n",
              "    <tr>\n",
              "      <th>4</th>\n",
              "      <td>000002b66c9c498e</td>\n",
              "      <td>xclick</td>\n",
              "      <td>/m/01g317</td>\n",
              "      <td>1</td>\n",
              "      <td>0.257812</td>\n",
              "      <td>0.346875</td>\n",
              "      <td>0.235938</td>\n",
              "      <td>0.385938</td>\n",
              "      <td>1</td>\n",
              "      <td>0</td>\n",
              "      <td>0</td>\n",
              "      <td>0</td>\n",
              "      <td>0</td>\n",
              "    </tr>\n",
              "  </tbody>\n",
              "</table>\n",
              "</div>"
            ],
            "text/plain": [
              "            ImageID  Source  LabelName  ...  IsGroupOf  IsDepiction  IsInside\n",
              "0  000002b66c9c498e  xclick  /m/01g317  ...          0            0         0\n",
              "1  000002b66c9c498e  xclick  /m/01g317  ...          0            0         0\n",
              "2  000002b66c9c498e  xclick  /m/01g317  ...          0            0         0\n",
              "3  000002b66c9c498e  xclick  /m/01g317  ...          0            0         0\n",
              "4  000002b66c9c498e  xclick  /m/01g317  ...          0            0         0\n",
              "\n",
              "[5 rows x 13 columns]"
            ]
          },
          "metadata": {
            "tags": []
          },
          "execution_count": 4
        }
      ]
    },
    {
      "cell_type": "code",
      "metadata": {
        "id": "HaCXpey1KaIJ",
        "colab_type": "code",
        "outputId": "c79a9c57-cf68-42f7-e483-8870e0a73a8e",
        "colab": {
          "base_uri": "https://localhost:8080/",
          "height": 202
        }
      },
      "source": [
        "class_descriptions = pd.read_csv('drive/My Drive/cohort/Dataset/class-descriptions-boxable.csv')\n",
        "class_descriptions.head()"
      ],
      "execution_count": 0,
      "outputs": [
        {
          "output_type": "execute_result",
          "data": {
            "text/html": [
              "<div>\n",
              "<style scoped>\n",
              "    .dataframe tbody tr th:only-of-type {\n",
              "        vertical-align: middle;\n",
              "    }\n",
              "\n",
              "    .dataframe tbody tr th {\n",
              "        vertical-align: top;\n",
              "    }\n",
              "\n",
              "    .dataframe thead th {\n",
              "        text-align: right;\n",
              "    }\n",
              "</style>\n",
              "<table border=\"1\" class=\"dataframe\">\n",
              "  <thead>\n",
              "    <tr style=\"text-align: right;\">\n",
              "      <th></th>\n",
              "      <th>name</th>\n",
              "      <th>class</th>\n",
              "    </tr>\n",
              "  </thead>\n",
              "  <tbody>\n",
              "    <tr>\n",
              "      <th>0</th>\n",
              "      <td>/m/011k07</td>\n",
              "      <td>Tortoise</td>\n",
              "    </tr>\n",
              "    <tr>\n",
              "      <th>1</th>\n",
              "      <td>/m/011q46kg</td>\n",
              "      <td>Container</td>\n",
              "    </tr>\n",
              "    <tr>\n",
              "      <th>2</th>\n",
              "      <td>/m/012074</td>\n",
              "      <td>Magpie</td>\n",
              "    </tr>\n",
              "    <tr>\n",
              "      <th>3</th>\n",
              "      <td>/m/0120dh</td>\n",
              "      <td>Sea turtle</td>\n",
              "    </tr>\n",
              "    <tr>\n",
              "      <th>4</th>\n",
              "      <td>/m/01226z</td>\n",
              "      <td>Football</td>\n",
              "    </tr>\n",
              "  </tbody>\n",
              "</table>\n",
              "</div>"
            ],
            "text/plain": [
              "          name       class\n",
              "0    /m/011k07    Tortoise\n",
              "1  /m/011q46kg   Container\n",
              "2    /m/012074      Magpie\n",
              "3    /m/0120dh  Sea turtle\n",
              "4    /m/01226z    Football"
            ]
          },
          "metadata": {
            "tags": []
          },
          "execution_count": 5
        }
      ]
    },
    {
      "cell_type": "code",
      "metadata": {
        "id": "CzFx2ws-iFoy",
        "colab_type": "code",
        "colab": {}
      },
      "source": [
        "Classes = ['Person','Billboard','Bus','Traffic sign','Truck']"
      ],
      "execution_count": 0,
      "outputs": []
    },
    {
      "cell_type": "code",
      "metadata": {
        "id": "YfpFE5I1KWoH",
        "colab_type": "code",
        "outputId": "cf9d5a1e-3a43-460f-ff95-fae24824640f",
        "colab": {
          "base_uri": "https://localhost:8080/",
          "height": 138
        }
      },
      "source": [
        "classes_pd = []\n",
        "class_labels = []\n",
        "class_bbox = []\n",
        "class_imgID = []\n",
        "sub_class_imgID = []\n",
        "for class_name in  Classes:\n",
        "    classes_pd.append( class_descriptions[class_descriptions['class'] == class_name])\n",
        "\n",
        "print(\"Choosen Classes:\\n\")\n",
        "for i in range(len(classes_pd)):\n",
        "    print(classes_pd[i]['class'].values[0], end = '  :  ')\n",
        "    print(classes_pd[i]['name'].values[0])\n",
        "    class_labels.append(classes_pd[i]['name'].values[0])"
      ],
      "execution_count": 0,
      "outputs": [
        {
          "output_type": "stream",
          "text": [
            "Choosen Classes:\n",
            "\n",
            "Person  :  /m/01g317\n",
            "Billboard  :  /m/01knjb\n",
            "Bus  :  /m/01bjv\n",
            "Traffic sign  :  /m/01mqdt\n",
            "Truck  :  /m/07r04\n"
          ],
          "name": "stdout"
        }
      ]
    },
    {
      "cell_type": "code",
      "metadata": {
        "id": "p6W71q--KmX4",
        "colab_type": "code",
        "outputId": "b77bafb7-72b7-4a27-9ce1-0e79e762428a",
        "colab": {
          "base_uri": "https://localhost:8080/",
          "height": 190
        }
      },
      "source": [
        "for i in range(len(class_labels)):\n",
        "    class_bbox.append(annotations_bbox[annotations_bbox['LabelName']==class_labels[i]])\n",
        "    class_imgID.append( np.unique(class_bbox[i]['ImageID']))\n",
        "    \n",
        "    print('There are %d images which contain ' % (len(class_imgID[i])),end = ' ')\n",
        "    print(Classes[i], end = '\\t')\n",
        "    \n",
        "    random.seed(1)\n",
        "    random.shuffle(class_imgID[i])\n",
        "    \n",
        "    sub_class_imgID.append( class_imgID[i][0:4000])\n",
        "    print('Choosing %d '% (len(sub_class_imgID[i])), end = '\\n\\n')\n"
      ],
      "execution_count": 0,
      "outputs": [
        {
          "output_type": "stream",
          "text": [
            "There are 248384 images which contain  Person\tChoosing 4000 \n",
            "\n",
            "There are 3399 images which contain  Billboard\tChoosing 3399 \n",
            "\n",
            "There are 7293 images which contain  Bus\tChoosing 4000 \n",
            "\n",
            "There are 2817 images which contain  Traffic sign\tChoosing 2817 \n",
            "\n",
            "There are 8078 images which contain  Truck\tChoosing 4000 \n",
            "\n"
          ],
          "name": "stdout"
        }
      ]
    },
    {
      "cell_type": "code",
      "metadata": {
        "id": "XFmcrijwKtXU",
        "colab_type": "code",
        "colab": {}
      },
      "source": [
        "# Searching for URLs\n",
        "sub_class_imgURL = []\n",
        "sub_annotations_bbox = []\n",
        "for i in range(len(Classes)):\n",
        "    sys.stdout.write('\\r' + 'Done :' + str(i+1)+ ' of ' + str(len(Classes)))\n",
        "    sys.flush()\n",
        "\n",
        "    URLS = [images_boxable['image_url'][images_boxable['image_name']==name+'.jpg'].values for name in sub_class_imgID[i]]\n",
        "    sub_class_imgURL.append(URLS)\n",
        "    [sub_annotations_bbox.append( data ) for data in class_bbox[i]]"
      ],
      "execution_count": 0,
      "outputs": []
    },
    {
      "cell_type": "code",
      "metadata": {
        "id": "-MBpGET8Ky71",
        "colab_type": "code",
        "outputId": "235b3b82-0a8f-4815-f9cd-90a22d97b6aa",
        "colab": {
          "base_uri": "https://localhost:8080/",
          "height": 69
        }
      },
      "source": [
        "train_url ,train_ID = [] , []\n",
        "test_url , test_ID = [] , []\n",
        "for i in range(len(Classes)):\n",
        "  [train_url.append(url) for url in sub_class_imgURL[i][ 0 : int(len(sub_class_imgURL[i])*0.9)]]\n",
        "  [test_url.append(url)  for url in sub_class_imgURL[i][ int(len(sub_class_imgURL[i])*0.9) : ]]\n",
        "\n",
        "  [train_ID.append(ID) for ID in sub_class_imgID[i][ 0 : int(len(sub_class_imgURL[i])*0.9)]]\n",
        "  [test_ID.append(ID)  for ID in sub_class_imgID[i][ int(len(sub_class_imgURL[i])*0.9) : ]]\n",
        "\n",
        "print('Total train images:',len(train_url))\n",
        "print('Total test images:',len(test_url))\n",
        "print(str(train_url[1])[2:-2])"
      ],
      "execution_count": 0,
      "outputs": [
        {
          "output_type": "stream",
          "text": [
            "Total train images: 16394\n",
            "Total test images: 1822\n",
            "https://requestor-proxy.figure-eight.com/figure_eight_datasets/open-images/train/5accc0a51f39559f.jpg\n"
          ],
          "name": "stdout"
        }
      ]
    },
    {
      "cell_type": "code",
      "metadata": {
        "id": "8FpESfbtKz3r",
        "colab_type": "code",
        "outputId": "f41d12c1-1866-47b4-ca71-d457859774e6",
        "colab": {
          "base_uri": "https://localhost:8080/",
          "height": 52
        }
      },
      "source": [
        "for i in range(len(train_url)):\n",
        "  img_id = train_ID[i]\n",
        "  img_path = str(train_url[i])[2:-2]\n",
        "  tmp_df = annotations_bbox[ annotations_bbox['ImageID'] == img_id]\n",
        "  sys.stdout.write('\\r' + 'Done :' + str(i+1)+ ' of ' + str(len(train_url)))\n",
        "  sys.stdout.flush()\n",
        "  #img = io.imread(img_path)\n",
        "  #(rows,cols) = img.shape[:2]\n",
        "  for index, row in tmp_df.iterrows():\n",
        "        labelName = row['LabelName']\n",
        "        for j in range(len(class_labels)):\n",
        "          if labelName == class_labels[j]:\n",
        "            r_min , c_min , r_max , c_max , clas = str(float(row['XMin'])) , str(float(row['YMin'])) , str(float(row['XMax'])) , str(float(row['YMax'])) , Classes[j]\n",
        "            file_name = img_path[-20:-4]\n",
        "\n",
        "            if ( (file_name + '.jpg') not in os.listdir('drive/My Drive/cohort/Dataset/train') ):\n",
        "              img = io.imread( img_path)\n",
        "              io.imsave('drive/My Drive/cohort/Dataset/train/' + file_name + '.jpg' , img)\n",
        "\n",
        "            with open( 'drive/My Drive/cohort/Dataset/train/' + file_name + '.txt' , 'a') as f:\n",
        "              f.write( str(Classes.index(clas)) + ' ' + str( ( float(r_min) + float(r_max) )/2 ) + ' ' + str( ( float(c_min) + float(c_max))/2 ) + ' ' + str( float(r_max) - float(r_min) ) + ' ' + str( float(c_max) - float(c_min) ) + '\\n')\n"
      ],
      "execution_count": 0,
      "outputs": [
        {
          "output_type": "stream",
          "text": [
            "Done :1744 of 16394"
          ],
          "name": "stdout"
        },
        {
          "output_type": "stream",
          "text": [
            "/usr/local/lib/python3.6/dist-packages/ipykernel_launcher.py:18: UserWarning: drive/My Drive/cohort/Dataset/train/a6a129777880e6ed.jpg is a low contrast image\n"
          ],
          "name": "stderr"
        },
        {
          "output_type": "stream",
          "text": [
            "Done :16394 of 16394"
          ],
          "name": "stdout"
        }
      ]
    },
    {
      "cell_type": "code",
      "metadata": {
        "id": "4eVVodiFgNqq",
        "colab_type": "code",
        "outputId": "1106495d-8b41-47ec-f868-510f6d6ebef1",
        "colab": {
          "base_uri": "https://localhost:8080/",
          "height": 34
        }
      },
      "source": [
        "for i in range(6):\n",
        "  all_files = os.listdir('drive/My Drive/cohort/Dataset/train/')\n",
        "images_name = [ i for i in all_files if '.jpg' in i]\n",
        "print(len(all_files))"
      ],
      "execution_count": 0,
      "outputs": [
        {
          "output_type": "stream",
          "text": [
            "34307\n"
          ],
          "name": "stdout"
        }
      ]
    },
    {
      "cell_type": "code",
      "metadata": {
        "id": "GQhQOA2wkQ6j",
        "colab_type": "code",
        "colab": {}
      },
      "source": [
        "with open('drive/My Drive/cohort/Dataset/train.txt','w') as f:\n",
        "  for train_img in images_name:\n",
        "    f.write( 'drive/My Drive/cohort/Dataset/train/' + train_img + '\\n')"
      ],
      "execution_count": 0,
      "outputs": []
    },
    {
      "cell_type": "code",
      "metadata": {
        "id": "GSDU-xfhRveW",
        "colab_type": "code",
        "colab": {}
      },
      "source": [
        ""
      ],
      "execution_count": 0,
      "outputs": []
    }
  ]
}